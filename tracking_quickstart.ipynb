{
  "nbformat": 4,
  "nbformat_minor": 0,
  "metadata": {
    "colab": {
      "provenance": []
    },
    "kernelspec": {
      "name": "python3",
      "display_name": "Python 3"
    },
    "language_info": {
      "name": "python"
    }
  },
  "cells": [
    {
      "cell_type": "code",
      "execution_count": null,
      "metadata": {
        "id": "l_mF7nF4ZXFV"
      },
      "outputs": [],
      "source": [
        "import pandas as pd\n",
        "from sklearn import datasets\n",
        "from sklearn.linear_model import LogisticRegression\n",
        "from sklearn.metrics import accuracy_score\n",
        "from sklearn.model_selection import train_test_split\n",
        "import mlflow\n",
        "from mlflow.models import infer_signature"
      ]
    },
    {
      "cell_type": "code",
      "source": [
        "# tracking uri\n",
        "mlflow.set_tracking_uri(\"http://localhost/\")"
      ],
      "metadata": {
        "id": "6GO_FEXHZlXT"
      },
      "execution_count": null,
      "outputs": []
    },
    {
      "cell_type": "code",
      "source": [
        "## load the dataset\n",
        "X,y=datasets.load_iris(return_X_y=True)\n",
        "# split the data into training and test sets\n",
        "X_train,X_test,y_train,y_test=train_test_split(X,y,test_size=0.20)"
      ],
      "metadata": {
        "id": "yTxRzSgiZqiL"
      },
      "execution_count": null,
      "outputs": []
    },
    {
      "cell_type": "code",
      "source": [
        "#define the model hyperparameters\n",
        "params = {\"penalty\":\"l2\",\"solver\": \"lbfgs\", \"max_iter\": 1000, \"multi_class\": \"auto\", \"random_state\": 8888}"
      ],
      "metadata": {
        "id": "mZipXUedZsCy"
      },
      "execution_count": null,
      "outputs": []
    },
    {
      "cell_type": "code",
      "source": [
        "## train the model\n",
        "lr=LogisticRegression(**params)\n",
        "lr.fit(X_train, y_train)"
      ],
      "metadata": {
        "id": "2LYYzQeoZ0D0"
      },
      "execution_count": null,
      "outputs": []
    },
    {
      "cell_type": "code",
      "source": [
        "## prediction on the test set\n",
        "y_pred=lr.predict(X_test)\n",
        "y_pred"
      ],
      "metadata": {
        "id": "AK0-Q4FgZ2tr"
      },
      "execution_count": null,
      "outputs": []
    },
    {
      "cell_type": "code",
      "source": [
        "accuracy=accuracy_score(y_test,y_pred)\n",
        "print(accuracy)"
      ],
      "metadata": {
        "id": "Zwv04lPJZ4Bj"
      },
      "execution_count": null,
      "outputs": []
    },
    {
      "cell_type": "code",
      "source": [
        "## mlflow tracking\n",
        "mlflow.set_tracking_uri(uri=\"http://localhost/\")\n",
        "\n",
        "# create a new mlflow experiment\n",
        "mlflow.set_experiment(\"MLFLOW quickstart\")\n",
        "\n",
        "# start a mlflow RUN\n",
        "with mlflow.start_run():\n",
        "    # log the hyperparameter\n",
        "    mlflow.log_params(params)\n",
        "\n",
        "    #log the accuracy metrics\n",
        "    mlflow.log_metric(\"accuracy\",accuracy)\n",
        "\n",
        "    # set a tag that we can use to remind ourselves what this run was for\n",
        "    mlflow.set_tag(\"training info\", \"logistic regression model for iris data\")\n",
        "\n",
        "    # infer the model signature\n",
        "    signature = infer_signature(X_train,lr.predict(X_train))\n",
        "\n",
        "    ## log the model\n",
        "    model_info=mlflow.sklearn.log_model(\n",
        "        sk_model=lr,\n",
        "        artifact_path=\"iris_model\",\n",
        "        signature=signature,\n",
        "        input_example=X_train,\n",
        "        registered_model_name=\"tracking-quickstart\"\n",
        "    )\n"
      ],
      "metadata": {
        "id": "Z-f0JEHfZ5pT"
      },
      "execution_count": null,
      "outputs": []
    },
    {
      "cell_type": "code",
      "source": [
        "#define the model hyperparameters\n",
        "params = {\"solver\": \"newton-cg\", \"max_iter\": 1000, \"multi_class\": \"auto\", \"random_state\": 1000}\n",
        "\n",
        "lr=LogisticRegression(**params)\n",
        "lr.fit(X_train, y_train)"
      ],
      "metadata": {
        "id": "DTC4LJ9BZ6g0"
      },
      "execution_count": null,
      "outputs": []
    },
    {
      "cell_type": "code",
      "source": [
        "y_pred=lr.predict(X_test)\n",
        "y_pred"
      ],
      "metadata": {
        "id": "3sZAwzinaBm7"
      },
      "execution_count": null,
      "outputs": []
    },
    {
      "cell_type": "code",
      "source": [
        "accuracy=accuracy_score(y_test,y_pred)\n",
        "print(accuracy)"
      ],
      "metadata": {
        "id": "mR94_gdVaDds"
      },
      "execution_count": null,
      "outputs": []
    },
    {
      "cell_type": "code",
      "source": [
        "## mlflow tracking\n",
        "mlflow.set_tracking_uri(uri=\"http://localhost/\")\n",
        "\n",
        "# create a new mlflow experiment\n",
        "mlflow.set_experiment(\"MLFLOW quickstart\")\n",
        "\n",
        "# start a mlflow RUN\n",
        "with mlflow.start_run():\n",
        "    # log the hyperparameter\n",
        "    mlflow.log_params(params)\n",
        "\n",
        "    #log the accuracy metrics\n",
        "    mlflow.log_metric(\"accuracy\",accuracy)\n",
        "\n",
        "    # set a tag that we can use to remind ourselves what this run was for\n",
        "    mlflow.set_tag(\"training info\", \"logistic regression model for iris data\")\n",
        "\n",
        "    # infer the model signature\n",
        "    signature = infer_signature(X_train,lr.predict(X_train))\n",
        "\n",
        "    ## log the model\n",
        "    model_info=mlflow.sklearn.log_model(\n",
        "        sk_model=lr,\n",
        "        artifact_path=\"iris_model\",\n",
        "        signature=signature,\n",
        "        input_example=X_train,\n",
        "        registered_model_name=\"tracking-quickstart\"\n",
        "    )\n"
      ],
      "metadata": {
        "id": "Ov6O__h6pDnT"
      },
      "execution_count": null,
      "outputs": []
    },
    {
      "cell_type": "code",
      "source": [
        "model_info.model_uri"
      ],
      "metadata": {
        "id": "quvanV5vpM7K"
      },
      "execution_count": null,
      "outputs": []
    },
    {
      "cell_type": "code",
      "source": [
        "loaded_model=mlflow.pyfunc.load_model(model_info.model_uri)\n",
        "predictions=loaded_model.predict(X_test)\n",
        "\n",
        "iris_features_name=datasets.load_iris().feature_names\n",
        "\n",
        "result=pd.DataFrame(X_test,columns=iris_features_name)\n",
        "result[\"actual_class\"]=y_test\n",
        "result[\"predcited_class\"]=predictions"
      ],
      "metadata": {
        "id": "-KccDqP9pRMq"
      },
      "execution_count": null,
      "outputs": []
    },
    {
      "cell_type": "code",
      "source": [
        "result[:7]"
      ],
      "metadata": {
        "id": "5U8AxtfZpTM6"
      },
      "execution_count": null,
      "outputs": []
    },
    {
      "cell_type": "code",
      "source": [
        "### model registry"
      ],
      "metadata": {
        "id": "1o1gMddXpU36"
      },
      "execution_count": null,
      "outputs": []
    },
    {
      "cell_type": "code",
      "source": [
        "## mlflow tracking\n",
        "mlflow.set_tracking_uri(uri=\"http://localhost/\")\n",
        "\n",
        "# create a new mlflow experiment\n",
        "mlflow.set_experiment(\"MLFLOW quickstart\")\n",
        "\n",
        "# start a mlflow RUN\n",
        "with mlflow.start_run():\n",
        "    # log the hyperparameter\n",
        "    mlflow.log_params(params)\n",
        "\n",
        "    #log the accuracy metrics\n",
        "    mlflow.log_metric(\"accuracy\",1.0)\n",
        "\n",
        "    # set a tag that we can use to remind ourselves what this run was for\n",
        "    mlflow.set_tag(\"training info2\", \"logistic regression model for iris data\")\n",
        "\n",
        "    # infer the model signature\n",
        "    signature = infer_signature(X_train,lr.predict(X_train))\n",
        "\n",
        "    ## log the model\n",
        "    model_info=mlflow.sklearn.log_model(\n",
        "        sk_model=lr,\n",
        "        artifact_path=\"iris_model\",\n",
        "        signature=signature,\n",
        "        input_example=X_train\n",
        "    )\n"
      ],
      "metadata": {
        "id": "thqH1AEfpXPq"
      },
      "execution_count": null,
      "outputs": []
    },
    {
      "cell_type": "markdown",
      "source": [
        "### inferencing from model registry"
      ],
      "metadata": {
        "id": "NWf3ERcGpeTy"
      }
    },
    {
      "cell_type": "code",
      "source": [
        "import mlflow.sklearn\n",
        "model_name=\"tracking-quickstart\"\n",
        "model_version=\"latest\"\n",
        "\n",
        "model_uri=f\"models:/{model_name}/{model_version}\"\n",
        "\n",
        "model=mlflow.sklearn.load_model(model_uri)\n",
        "model"
      ],
      "metadata": {
        "id": "PQhyneO6pgA6"
      },
      "execution_count": null,
      "outputs": []
    },
    {
      "cell_type": "code",
      "source": [
        "model_uri"
      ],
      "metadata": {
        "id": "AIvyzNLypjRK"
      },
      "execution_count": null,
      "outputs": []
    },
    {
      "cell_type": "code",
      "source": [
        "y_pred_new=model.predict(X_test)\n",
        "y_pred_new"
      ],
      "metadata": {
        "id": "g4fM_KqWp_GB"
      },
      "execution_count": null,
      "outputs": []
    }
  ]
}